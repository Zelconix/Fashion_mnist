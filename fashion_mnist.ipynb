{
 "cells": [
  {
   "cell_type": "code",
   "execution_count": 1,
   "id": "4689b7a5",
   "metadata": {},
   "outputs": [],
   "source": [
    "import tensorflow as tf\n",
    "import  keras\n",
    "import numpy as np"
   ]
  },
  {
   "cell_type": "code",
   "execution_count": 2,
   "id": "9fd36f8d",
   "metadata": {},
   "outputs": [],
   "source": [
    "fashion_mnist = tf.keras.datasets.fashion_mnist\n",
    "(train_images,train_labels),(test_images,test_labels) = fashion_mnist.load_data()"
   ]
  },
  {
   "cell_type": "code",
   "execution_count": 3,
   "id": "6fdfa1aa",
   "metadata": {},
   "outputs": [],
   "source": [
    "# Normalize the pixel values of the train and test images\n",
    "train_images  = train_images / 255.0\n",
    "test_images = test_images / 255.0"
   ]
  },
  {
   "cell_type": "code",
   "execution_count": 6,
   "id": "f1468303",
   "metadata": {},
   "outputs": [],
   "source": [
    "from keras.models import load_model \n",
    "model = load_model(\"temp_model.h5\")"
   ]
  },
  {
   "cell_type": "code",
   "execution_count": 4,
   "id": "b9c0bcc8",
   "metadata": {},
   "outputs": [],
   "source": [
    "model = tf.keras.models.Sequential([\n",
    "                                    keras.layers.Conv2D(64,(3,3),padding = \"same\",input_shape=(28,28,1)),\n",
    "                                    keras.layers.BatchNormalization(),\n",
    "                                    keras.layers.Conv2D(64,(3,3),padding = \"same\"),\n",
    "                                    keras.layers.BatchNormalization(),\n",
    "                                    keras.layers.Conv2D(96,(3,3),padding = \"same\"),\n",
    "                                    keras.layers.BatchNormalization(),\n",
    "\n",
    "                                    keras.layers.Conv2D(96,(3,3),padding = \"same\"),\n",
    "                                    keras.layers.MaxPool2D((2,2)),\n",
    "                                    keras.layers.BatchNormalization(),\n",
    "                                    keras.layers.Conv2D(128,(3,3),padding = \"same\"),\n",
    "                                    keras.layers.BatchNormalization(),\n",
    "                                    keras.layers.Conv2D(128,(3,3),padding = \"same\"),\n",
    "                                    keras.layers.BatchNormalization(),\n",
    "\n",
    "                                    keras.layers.Conv2D(256,(3,3),padding = \"same\"),\n",
    "                                    keras.layers.BatchNormalization(),\n",
    "                                    keras.layers.MaxPool2D((2,2)),\n",
    "                                    keras.layers.Conv2D(256,(3,3),padding = \"same\"),\n",
    "                                    keras.layers.BatchNormalization(),\n",
    "                                    keras.layers.Conv2D(512,(3,3),padding = \"same\"),\n",
    "                                    keras.layers.BatchNormalization(),\n",
    "#                                     keras.layers.Dropout(0.4),\n",
    "\n",
    "                                   \n",
    "                                    keras.layers.Flatten(),\n",
    "                                    keras.layers.BatchNormalization(),\n",
    "                                    keras.layers.Dense(512,activation=tf.nn.leaky_relu),\n",
    "                                    keras.layers.BatchNormalization(),\n",
    "#                                     keras.layers.Dropout(0.3),\n",
    "                                    keras.layers.Dense(512,activation=tf.nn.leaky_relu),\n",
    "                                    keras.layers.Dropout(0.4),\n",
    "                                    keras.layers.BatchNormalization(),\n",
    "    \n",
    "                                    keras.layers.Dense(512,activation=tf.nn.leaky_relu),\n",
    "                                    keras.layers.BatchNormalization(),\n",
    "                                    keras.layers.Dropout(0.4),\n",
    "                                    keras.layers.Dense(10,activation=tf.nn.softmax)])"
   ]
  },
  {
   "cell_type": "code",
   "execution_count": 5,
   "id": "2945b572",
   "metadata": {},
   "outputs": [],
   "source": [
    "# sgd = keras.optimizers.SGD(learning_rate=0.01)\n",
    "model.compile(optimizer=\"adam\",\n",
    "              loss = 'sparse_categorical_crossentropy',\n",
    "              metrics = ['accuracy'])"
   ]
  },
  {
   "cell_type": "code",
   "execution_count": 9,
   "id": "69e834e8",
   "metadata": {},
   "outputs": [
    {
     "name": "stdout",
     "output_type": "stream",
     "text": [
      "Epoch 1/20\n",
      "1875/1875 [==============================] - 45s 24ms/step - loss: 0.3729 - accuracy: 0.8666\n",
      "Epoch 2/20\n",
      "1875/1875 [==============================] - 45s 24ms/step - loss: 0.3341 - accuracy: 0.8799\n",
      "Epoch 3/20\n",
      "1875/1875 [==============================] - 45s 24ms/step - loss: 0.3055 - accuracy: 0.8909\n",
      "Epoch 4/20\n",
      "1875/1875 [==============================] - 45s 24ms/step - loss: 0.2821 - accuracy: 0.8992\n",
      "Epoch 5/20\n",
      "1875/1875 [==============================] - 46s 24ms/step - loss: 0.2607 - accuracy: 0.9058\n",
      "Epoch 6/20\n",
      "1875/1875 [==============================] - 45s 24ms/step - loss: 0.2401 - accuracy: 0.9136\n",
      "Epoch 7/20\n",
      "1875/1875 [==============================] - 45s 24ms/step - loss: 0.2247 - accuracy: 0.9183\n",
      "Epoch 8/20\n",
      "1875/1875 [==============================] - 45s 24ms/step - loss: 0.2078 - accuracy: 0.9247\n",
      "Epoch 9/20\n",
      "1875/1875 [==============================] - 45s 24ms/step - loss: 0.1958 - accuracy: 0.9282\n",
      "Epoch 10/20\n",
      "1875/1875 [==============================] - 46s 24ms/step - loss: 0.1827 - accuracy: 0.9336\n",
      "Epoch 11/20\n",
      "1875/1875 [==============================] - 46s 24ms/step - loss: 0.1739 - accuracy: 0.9367\n",
      "Epoch 12/20\n",
      "1875/1875 [==============================] - 46s 24ms/step - loss: 0.1632 - accuracy: 0.9411\n",
      "Epoch 13/20\n",
      "1875/1875 [==============================] - 45s 24ms/step - loss: 0.1479 - accuracy: 0.9467\n",
      "Epoch 14/20\n",
      "1875/1875 [==============================] - 46s 24ms/step - loss: 0.1409 - accuracy: 0.9472\n",
      "Epoch 15/20\n",
      "1875/1875 [==============================] - 46s 24ms/step - loss: 0.1310 - accuracy: 0.9508\n",
      "Epoch 16/20\n",
      "1875/1875 [==============================] - 46s 24ms/step - loss: 0.1204 - accuracy: 0.9556\n",
      "Epoch 17/20\n",
      "1875/1875 [==============================] - 46s 24ms/step - loss: 0.1173 - accuracy: 0.9572\n",
      "Epoch 18/20\n",
      "1875/1875 [==============================] - 46s 24ms/step - loss: 0.1078 - accuracy: 0.9604\n",
      "Epoch 19/20\n",
      "1875/1875 [==============================] - 46s 24ms/step - loss: 0.1006 - accuracy: 0.9633\n",
      "Epoch 20/20\n",
      "1875/1875 [==============================] - 45s 24ms/step - loss: 0.0952 - accuracy: 0.9647\n"
     ]
    },
    {
     "data": {
      "text/plain": [
       "<keras.callbacks.History at 0x2435dc6cfd0>"
      ]
     },
     "execution_count": 9,
     "metadata": {},
     "output_type": "execute_result"
    }
   ],
   "source": [
    "model.fit(train_images,train_labels,epochs=20)"
   ]
  },
  {
   "cell_type": "code",
   "execution_count": 10,
   "id": "f3fa517e",
   "metadata": {},
   "outputs": [
    {
     "name": "stdout",
     "output_type": "stream",
     "text": [
      "313/313 [==============================] - 3s 9ms/step - loss: 0.3014 - accuracy: 0.9107\n"
     ]
    },
    {
     "data": {
      "text/plain": [
       "[0.3013984262943268, 0.9107000231742859]"
      ]
     },
     "execution_count": 10,
     "metadata": {},
     "output_type": "execute_result"
    }
   ],
   "source": [
    "model.evaluate(test_images,test_labels)"
   ]
  },
  {
   "cell_type": "code",
   "execution_count": 11,
   "id": "6cb393a8",
   "metadata": {},
   "outputs": [
    {
     "name": "stdout",
     "output_type": "stream",
     "text": [
      "1875/1875 [==============================] - 17s 9ms/step - loss: 0.0857 - accuracy: 0.9667\n"
     ]
    },
    {
     "data": {
      "text/plain": [
       "[0.08565475046634674, 0.9666666388511658]"
      ]
     },
     "execution_count": 11,
     "metadata": {},
     "output_type": "execute_result"
    }
   ],
   "source": [
    "model.evaluate(train_images,train_labels)"
   ]
  },
  {
   "cell_type": "code",
   "execution_count": 12,
   "id": "3a5e4b79",
   "metadata": {},
   "outputs": [],
   "source": [
    "model.save(\"temp_model.h5\")\n"
   ]
  },
  {
   "cell_type": "code",
   "execution_count": null,
   "id": "c94fe89d",
   "metadata": {},
   "outputs": [],
   "source": []
  }
 ],
 "metadata": {
  "kernelspec": {
   "display_name": "Python 3 (ipykernel)",
   "language": "python",
   "name": "python3"
  },
  "language_info": {
   "codemirror_mode": {
    "name": "ipython",
    "version": 3
   },
   "file_extension": ".py",
   "mimetype": "text/x-python",
   "name": "python",
   "nbconvert_exporter": "python",
   "pygments_lexer": "ipython3",
   "version": "3.9.12"
  }
 },
 "nbformat": 4,
 "nbformat_minor": 5
}
